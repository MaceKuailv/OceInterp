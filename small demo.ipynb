{
 "cells": [
  {
   "cell_type": "code",
   "execution_count": 1,
   "metadata": {},
   "outputs": [],
   "source": [
    "import numpy as np\n",
    "import matplotlib.pyplot as plt"
   ]
  },
  {
   "cell_type": "code",
   "execution_count": 2,
   "metadata": {},
   "outputs": [
    {
     "name": "stdout",
     "output_type": "stream",
     "text": [
      "Opening ECCO.\n",
      "ECCO v4r4 3D dataset, ocean simulations on LLC90 grid\n"
     ]
    }
   ],
   "source": [
    "import oceanspy as ospy\n",
    "ecco = ospy.open_oceandataset.from_catalog('ECCO')\n",
    "\n",
    "# This is not necessary. It is certainly faster if you have maskU and maskV at hand, \n",
    "# say from the shared notebook/analytical folder. \n",
    "# ecco._ds['maskU'] = ecco._ds['maskC']\n",
    "# ecco._ds['maskU'].values = np.load('maskU.npy')\n",
    "# ecco._ds['maskV'] = ecco._ds['maskC']\n",
    "# ecco._ds['maskV'].values = np.load('maskV.npy')"
   ]
  },
  {
   "cell_type": "code",
   "execution_count": 3,
   "metadata": {},
   "outputs": [],
   "source": [
    "import OceInterp as oi"
   ]
  },
  {
   "cell_type": "code",
   "execution_count": 4,
   "metadata": {},
   "outputs": [],
   "source": [
    "oi.rcParam['debug_level'] = 'very_high'\n",
    "# 'high','very_high','not that high'"
   ]
  },
  {
   "cell_type": "code",
   "execution_count": 5,
   "metadata": {},
   "outputs": [
    {
     "data": {
      "image/png": "[encoded data removed]",
      "text/plain": [
       "<Figure size 432x288 with 1 Axes>"
      ]
     },
     "metadata": {
      "needs_background": "light"
     },
     "output_type": "display_data"
    },
    {
     "data": {
      "text/plain": [
       "(100,)"
      ]
     },
     "execution_count": 5,
     "metadata": {},
     "output_type": "execute_result"
    }
   ],
   "source": [
    "import cartopy.crs as ccrs\n",
    "# change the number of particles here\n",
    "N = int(1e2)\n",
    "# change the vertical depth of the particles here\n",
    "levels = np.array([-5])\n",
    "sqrtN = int(np.sqrt(N))\n",
    "x = np.linspace(-19,-9,sqrtN)\n",
    "y = np.linspace(63,57,sqrtN)\n",
    "\n",
    "x,y = np.meshgrid(x,y)\n",
    "ax = plt.axes(projection = ccrs.PlateCarree())\n",
    "ax.plot(x,y,'r+')\n",
    "ax.coastlines()\n",
    "ax.set_xlim([-25,0])\n",
    "ax.set_ylim([50,70])\n",
    "plt.show()\n",
    "\n",
    "small_shape = x.shape\n",
    "x = x.ravel()\n",
    "y = y.ravel()\n",
    "\n",
    "x,z = np.meshgrid(x,levels)\n",
    "y,z = np.meshgrid(y,levels)\n",
    "\n",
    "x = x.ravel()\n",
    "y = y.ravel()\n",
    "z = z.ravel()\n",
    "\n",
    "# t = np.array([np.datetime64('2000-01') for i in range(len(x))])\n",
    "# t = (t-od._ds['time'][0].values).astype(float)\n",
    "start_time = '1998-12-15'\n",
    "t = (np.array([np.datetime64(start_time) for i in x])\n",
    "     -np.datetime64('1970-01-01'))/np.timedelta64(1, 's')\n",
    "\n",
    "t.shape"
   ]
  },
  {
   "cell_type": "code",
   "execution_count": 6,
   "metadata": {},
   "outputs": [
    {
     "name": "stdout",
     "output_type": "stream",
     "text": [
      "Help on function OceInterp in module OceInterp.OceInterp:\n",
      "\n",
      "OceInterp(od, varList, x, y, z, t, kernelList=None, lagrangian=False, lagrange_kwarg={}, update_stops='default', return_in_between=True, return_pt_time=True, **kernel_kwarg)\n",
      "    The center piece function of the package, from here \n",
      "    you can access almost all the functionality of the \n",
      "    package.\n",
      "    -------\n",
      "    od: OceInterp.OceData object or xarray.Dataset (hopefully also netcdf)\n",
      "        the dataset to work on\n",
      "    varList: str or lst\n",
      "        (list of) variable/pair of variables\n",
      "    kernelList: OceInterp.KnW/list of OceInterp.KnW object\n",
      "        which kernel to use for each interpolation\n",
      "    x,y,z: numpy.ndarray\n",
      "        location of the particles, x,y are in degrees, and \n",
      "        z are in meters, the deeper, the more negative. \n",
      "    t: numpy.ndarray\n",
      "        In Eulerian scheme, the time of interpolation.\n",
      "        In Lagrangian scheme, the time needed for output. \n",
      "    lagrangian: bool\n",
      "        whether the interpolation is done in Eulerian or \n",
      "        Lagarangian scheme\n",
      "    lagrange_kwarg: dict\n",
      "        keyward argument passed into the OceInterp.lagrangia\n",
      "        n.particle object.\n",
      "    update_stops: None, 'defalut', iterable of float\n",
      "        time to update the prefetch the velocity.\n",
      "    return_in_between: bool\n",
      "        in lagrangian mode, return the interpolation not only\n",
      "        at t, but also at whenever the speed is updated.\n",
      "    return_pt_time: bool\n",
      "        whether to return time of all the steps.\n",
      "\n"
     ]
    }
   ],
   "source": [
    "help(oi.OceInterp)"
   ]
  },
  {
   "cell_type": "code",
   "execution_count": null,
   "metadata": {
    "tags": []
   },
   "outputs": [
    {
     "name": "stdout",
     "output_type": "stream",
     "text": [
      "Creating new weight function, the first time is going to be slow\n",
      "Creating new weight function, the first time is going to be slow\n"
     ]
    }
   ],
   "source": [
    "[s,[u,v],eta,mask] = oi.OceInterp(ecco._ds,['SALT',['UVELMASS','VVELMASS'],'ETAN','maskC'],x,y,z,t)"
   ]
  },
  {
   "cell_type": "code",
   "execution_count": null,
   "metadata": {},
   "outputs": [],
   "source": [
    "ax = plt.axes(projection = ccrs.PlateCarree())\n",
    "c = ax.scatter(x,y,c = s)\n",
    "ax.coastlines()\n",
    "ax.set_xlim([-25,0])\n",
    "ax.set_ylim([50,70])\n",
    "plt.colorbar(c)\n",
    "plt.title('Salinity (psu)')"
   ]
  },
  {
   "cell_type": "code",
   "execution_count": null,
   "metadata": {},
   "outputs": [],
   "source": [
    "ax = plt.axes(projection = ccrs.PlateCarree())\n",
    "c = ax.scatter(x,y,c = u)\n",
    "ax.coastlines()\n",
    "ax.set_xlim([-25,0])\n",
    "ax.set_ylim([50,70])\n",
    "plt.colorbar(c)\n",
    "plt.title('Zonal Velocity (m/s)')"
   ]
  },
  {
   "cell_type": "code",
   "execution_count": null,
   "metadata": {},
   "outputs": [],
   "source": [
    "ax = plt.axes(projection = ccrs.PlateCarree())\n",
    "c = ax.scatter(x,y,c = eta)\n",
    "ax.coastlines()\n",
    "ax.set_xlim([-25,0])\n",
    "ax.set_ylim([50,70])\n",
    "plt.colorbar(c)\n",
    "plt.title('Sea Surface Height (m)')"
   ]
  },
  {
   "cell_type": "code",
   "execution_count": null,
   "metadata": {},
   "outputs": [],
   "source": [
    "start_time = '1998-12-15'\n",
    "end_time = '1998-09'\n",
    "\n",
    "t_bnds = np.array([\n",
    "    np.datetime64(start_time)-np.datetime64('1970-01-01'),\n",
    "    np.datetime64(  end_time)-np.datetime64('1970-01-01')\n",
    "])/np.timedelta64(1, 's')"
   ]
  },
  {
   "cell_type": "code",
   "execution_count": null,
   "metadata": {},
   "outputs": [],
   "source": [
    "t_bnds"
   ]
  },
  {
   "cell_type": "code",
   "execution_count": null,
   "metadata": {},
   "outputs": [],
   "source": [
    "stops,[s,raw,lat,lon] = oi.OceInterp(ecco._ds,\n",
    "                                 ['SALT','__particle.raw','__particle.lat','__particle.lon'],\n",
    "                                 x,y,z,t_bnds,\n",
    "                                lagrangian = True,\n",
    "                                     return_pt_time = True,\n",
    "                                     lagrange_kwarg={'save_raw':True}\n",
    "                                     # this is actually default to be True\n",
    "                                    )"
   ]
  },
  {
   "cell_type": "code",
   "execution_count": null,
   "metadata": {},
   "outputs": [],
   "source": [
    "stops"
   ]
  },
  {
   "cell_type": "code",
   "execution_count": null,
   "metadata": {},
   "outputs": [],
   "source": [
    "ax = plt.axes(projection = ccrs.PlateCarree())\n",
    "ax.scatter(lon[-1],lat[-1],c = s[-1])\n",
    "ax.coastlines()\n",
    "ax.set_xlim([-70,0])\n",
    "ax.set_ylim([30,70])\n",
    "plt.title('salinity map')"
   ]
  },
  {
   "cell_type": "code",
   "execution_count": null,
   "metadata": {},
   "outputs": [],
   "source": [
    "raw"
   ]
  },
  {
   "cell_type": "markdown",
   "metadata": {},
   "source": [
    "## other classes\n",
    "### 1. kernel object"
   ]
  },
  {
   "cell_type": "code",
   "execution_count": null,
   "metadata": {},
   "outputs": [],
   "source": [
    "KnW = oi.kernelNweight.KnW"
   ]
  },
  {
   "cell_type": "code",
   "execution_count": null,
   "metadata": {},
   "outputs": [],
   "source": [
    "default = KnW()\n",
    "dz_kernel = KnW(vkernel = 'dz')\n",
    "dx2_kernel = KnW(hkernel = 'dx',h_order = 2,inheritance = [[0,1,2,3,4,5,6,7,8]],tkernel = 'linear')\n",
    "dt_kernel = KnW(tkernel = 'dt')"
   ]
  },
  {
   "cell_type": "code",
   "execution_count": null,
   "metadata": {},
   "outputs": [],
   "source": [
    "output = oi.OceInterp(ecco._ds,{'SALT':dz_kernel,('UVELMASS','VVELMASS'):(dx2_kernel,dt_kernel)},x,y,z,t)"
   ]
  },
  {
   "cell_type": "code",
   "execution_count": null,
   "metadata": {},
   "outputs": [],
   "source": [
    "[dsdz,[d2udx2,dvdt]] = output"
   ]
  },
  {
   "cell_type": "code",
   "execution_count": null,
   "metadata": {},
   "outputs": [],
   "source": [
    "ax = plt.axes(projection = ccrs.PlateCarree())\n",
    "c = ax.scatter(x,y,c = d2udx2)\n",
    "ax.coastlines()\n",
    "ax.set_xlim([-25,0])\n",
    "ax.set_ylim([50,70])\n",
    "plt.colorbar(c)\n",
    "plt.title('Second Derivative of the Zonal Velocity (m/s per grid scale squared)')"
   ]
  },
  {
   "cell_type": "code",
   "execution_count": null,
   "metadata": {},
   "outputs": [],
   "source": []
  }
 ],
 "metadata": {
  "kernelspec": {
   "display_name": "Oceanography",
   "language": "python",
   "name": "oceanography"
  },
  "language_info": {
   "codemirror_mode": {
    "name": "ipython",
    "version": 3
   },
   "file_extension": ".py",
   "mimetype": "text/x-python",
   "name": "python",
   "nbconvert_exporter": "python",
   "pygments_lexer": "ipython3",
   "version": "3.9.10"
  }
 },
 "nbformat": 4,
 "nbformat_minor": 4
}
